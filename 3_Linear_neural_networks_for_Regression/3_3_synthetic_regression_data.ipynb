{
 "cells": [
  {
   "cell_type": "code",
   "execution_count": 1,
   "metadata": {},
   "outputs": [],
   "source": [
    "%matplotlib inline\n",
    "import random\n",
    "import torch\n",
    "from d2l import torch as d2l"
   ]
  },
  {
   "cell_type": "markdown",
   "metadata": {},
   "source": [
    "## 3.3.1. Generating the Dataset\n"
   ]
  },
  {
   "cell_type": "code",
   "execution_count": 2,
   "metadata": {},
   "outputs": [],
   "source": [
    "data = d2l.SyntheticRegressionData(w=torch.tensor([2, -3.4]), b=4.2)"
   ]
  },
  {
   "cell_type": "code",
   "execution_count": 3,
   "metadata": {},
   "outputs": [
    {
     "name": "stdout",
     "output_type": "stream",
     "text": [
      "feature: tensor([ 1.2953, -1.6733]) \n",
      "label: tensor([12.4762])\n"
     ]
    }
   ],
   "source": [
    "print('feature:', data.X[0], '\\nlabel:', data.y[0])"
   ]
  },
  {
   "cell_type": "markdown",
   "metadata": {},
   "source": [
    "## 3.3.2 Reading the Dataset"
   ]
  },
  {
   "cell_type": "code",
   "execution_count": 5,
   "metadata": {},
   "outputs": [],
   "source": [
    "@d2l.add_to_class(d2l.SyntheticRegressionData)\n",
    "def get_dataloader(self, train):\n",
    "    if train:\n",
    "        indices = list(range(0, self.num_train))\n",
    "        # The examples are read in random order\n",
    "        random.shuffle(indices)\n",
    "    else:\n",
    "        indices = list(range(self.num_train, self.num_train+self.num_val))\n",
    "    for i in range(0, len(indices), self.batch_size):\n",
    "        batch_indices = torch.tensor(indices[i: i+self.batch_size])\n",
    "        yield self.X[batch_indices], self.y[batch_indices]"
   ]
  },
  {
   "cell_type": "code",
   "execution_count": 16,
   "metadata": {},
   "outputs": [
    {
     "name": "stdout",
     "output_type": "stream",
     "text": [
      "X shape: torch.Size([32, 2]) \n",
      "y shape: torch.Size([32, 1])\n",
      "X: tensor([[-8.3689e-01, -2.8866e-01],\n",
      "        [ 3.7047e-01,  1.2540e+00],\n",
      "        [ 1.6033e+00,  5.3675e-02],\n",
      "        [ 6.5222e-01,  9.0011e-01],\n",
      "        [ 4.2874e-02, -1.2350e-01],\n",
      "        [ 1.4628e+00,  1.2535e+00],\n",
      "        [ 2.8137e-01,  1.8114e+00],\n",
      "        [ 8.3051e-01, -6.0660e-01],\n",
      "        [ 1.1253e-02, -1.1505e-01],\n",
      "        [-4.4320e-01,  4.2002e-01],\n",
      "        [ 2.7173e-01, -8.1504e-01],\n",
      "        [ 1.4722e+00, -1.3855e+00],\n",
      "        [-9.8781e-01, -8.4248e-02],\n",
      "        [-7.0102e-01,  3.1824e-01],\n",
      "        [ 1.0092e+00,  1.1124e-01],\n",
      "        [-5.6914e-01,  1.5724e+00],\n",
      "        [ 7.6610e-02,  1.3968e-01],\n",
      "        [-6.5434e-01, -1.9506e-01],\n",
      "        [-1.8146e+00, -8.1541e-01],\n",
      "        [ 3.1219e-01, -5.7500e-02],\n",
      "        [ 1.2996e-01, -3.7567e-01],\n",
      "        [ 3.4923e-01, -1.1000e-03],\n",
      "        [ 1.3550e+00,  4.4365e-01],\n",
      "        [-5.8311e-01, -2.5551e-01],\n",
      "        [ 9.6717e-01,  3.1316e-01],\n",
      "        [-5.4955e-01, -2.5154e-01],\n",
      "        [ 2.5379e+00,  1.3087e+00],\n",
      "        [ 6.7864e-01,  1.5697e+00],\n",
      "        [-9.5922e-01, -3.9528e-01],\n",
      "        [ 2.0860e-01,  1.4090e+00],\n",
      "        [ 1.3933e+00,  4.0702e-02],\n",
      "        [ 7.2119e-01,  8.8306e-02]]) \n",
      "y: tensor([[ 3.5127],\n",
      "        [ 0.6795],\n",
      "        [ 7.2113],\n",
      "        [ 2.4473],\n",
      "        [ 4.7158],\n",
      "        [ 2.8688],\n",
      "        [-1.3997],\n",
      "        [ 7.9294],\n",
      "        [ 4.6180],\n",
      "        [ 1.8898],\n",
      "        [ 7.5236],\n",
      "        [11.8548],\n",
      "        [ 2.5327],\n",
      "        [ 1.7269],\n",
      "        [ 5.8271],\n",
      "        [-2.2864],\n",
      "        [ 3.8719],\n",
      "        [ 3.5551],\n",
      "        [ 3.3485],\n",
      "        [ 5.0100],\n",
      "        [ 5.7494],\n",
      "        [ 4.8971],\n",
      "        [ 5.3900],\n",
      "        [ 3.8872],\n",
      "        [ 5.0671],\n",
      "        [ 3.9707],\n",
      "        [ 4.8198],\n",
      "        [ 0.2091],\n",
      "        [ 3.6055],\n",
      "        [-0.1926],\n",
      "        [ 6.8406],\n",
      "        [ 5.3612]])\n"
     ]
    }
   ],
   "source": [
    "X, y = next(iter(data.train_dataloader()))\n",
    "\n",
    "print('X shape:', X.shape, '\\ny shape:', y.shape)\n",
    "print('X:', X, '\\ny:', y)"
   ]
  },
  {
   "cell_type": "code",
   "execution_count": null,
   "metadata": {},
   "outputs": [],
   "source": []
  }
 ],
 "metadata": {
  "kernelspec": {
   "display_name": "base",
   "language": "python",
   "name": "python3"
  },
  "language_info": {
   "codemirror_mode": {
    "name": "ipython",
    "version": 3
   },
   "file_extension": ".py",
   "mimetype": "text/x-python",
   "name": "python",
   "nbconvert_exporter": "python",
   "pygments_lexer": "ipython3",
   "version": "3.12.7"
  }
 },
 "nbformat": 4,
 "nbformat_minor": 2
}
